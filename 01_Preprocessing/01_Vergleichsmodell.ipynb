{
 "cells": [
  {
   "cell_type": "markdown",
   "metadata": {},
   "source": [
    "# Create a basic model\n",
    "\n",
    "Create a basic comparison model with which all preprocessing steps can be evaluated"
   ]
  },
  {
   "cell_type": "code",
   "execution_count": 1,
   "metadata": {},
   "outputs": [],
   "source": [
    "# Import of used packages\n",
    "from sklearn.model_selection import StratifiedKFold, GridSearchCV, cross_validate\n",
    "from sklearn.metrics import make_scorer, confusion_matrix\n",
    "from sklearn.svm import SVC\n",
    "\n",
    "import os\n",
    "import pandas as pd\n",
    "import warnings\n",
    "warnings.filterwarnings(\"ignore\")\n",
    "\n",
    "#Set a random state\n",
    "rs = 4\n",
    "\n",
    "#Set amount of splits\n",
    "cv_split = 5"
   ]
  },
  {
   "cell_type": "code",
   "execution_count": 2,
   "metadata": {},
   "outputs": [],
   "source": [
    "#Define monetary_score\n",
    "def monetary_score_func(y_test, y_pred):\n",
    "    cm = confusion_matrix(y_test, y_pred)\n",
    "    monetary_value = (cm[0,0] * 0) + (cm[1, 0] * -5) + (cm[0, 1] * -25) + (cm[1, 1] * 5)\n",
    "    max_monetary_value = (cm[1,0] + cm[1,1]) * 5\n",
    "    return (monetary_value / max_monetary_value)\n",
    "\n",
    "monetary_score = make_scorer(monetary_score_func)"
   ]
  },
  {
   "cell_type": "code",
   "execution_count": 3,
   "metadata": {},
   "outputs": [],
   "source": [
    "# get current directory \n",
    "path = os.getcwd() \n",
    "\n",
    "# get parent directory \n",
    "parent = os.path.dirname(path)\n",
    "\n",
    "# move to the directory with data\n",
    "train_csv = os.path.join(parent, \"data\", \"train.csv\")\n",
    "\n",
    "#Import our dataset\n",
    "dataset = pd.read_csv(train_csv, delimiter = '|')"
   ]
  },
  {
   "cell_type": "code",
   "execution_count": 4,
   "metadata": {},
   "outputs": [],
   "source": [
    "#Split X and y \n",
    "X = dataset.drop('fraud', axis=1)\n",
    "y = dataset.fraud"
   ]
  },
  {
   "cell_type": "code",
   "execution_count": 5,
   "metadata": {
    "scrolled": true
   },
   "outputs": [
    {
     "name": "stdout",
     "output_type": "stream",
     "text": [
      "Model performance on folds:\t\t [-0.80952381 -0.52380952 -0.42857143 -0.52380952 -0.15      ]\n",
      "Model mean monetary score:\t\t -0.4871428571428572\n",
      "Model double standard deviation:\t 0.4230501490029623\n"
     ]
    }
   ],
   "source": [
    "cv = StratifiedKFold(n_splits=cv_split, shuffle=True, random_state=rs)\n",
    "   \n",
    "model = SVC(kernel=\"linear\", random_state=rs)\n",
    "\n",
    "cv_results = cross_validate(model, X, y, cv=cv_split, scoring=monetary_score, n_jobs=-1)\n",
    "print(\"Model performance on folds:\\t\\t\",cv_results['test_score'])\n",
    "print(\"Model mean monetary score:\\t\\t\", cv_results['test_score'].mean())\n",
    "print(\"Model double standard deviation:\\t\", 2*cv_results['test_score'].std())"
   ]
  }
 ],
 "metadata": {
  "kernelspec": {
   "display_name": "Python 3",
   "language": "python",
   "name": "python3"
  },
  "language_info": {
   "codemirror_mode": {
    "name": "ipython",
    "version": 3
   },
   "file_extension": ".py",
   "mimetype": "text/x-python",
   "name": "python",
   "nbconvert_exporter": "python",
   "pygments_lexer": "ipython3",
   "version": "3.7.3"
  }
 },
 "nbformat": 4,
 "nbformat_minor": 4
}
