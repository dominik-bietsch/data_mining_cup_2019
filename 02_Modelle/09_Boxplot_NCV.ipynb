{
 "cells": [
  {
   "cell_type": "code",
   "execution_count": 1,
   "metadata": {},
   "outputs": [],
   "source": [
    "from sklearn.ensemble import AdaBoostClassifier, BaggingClassifier\n",
    "from sklearn.model_selection import StratifiedKFold, GridSearchCV, cross_validate\n",
    "from sklearn.metrics import confusion_matrix, make_scorer\n",
    "from sklearn.preprocessing import PowerTransformer\n",
    "from sklearn.svm import SVC\n",
    "from xgboost import XGBClassifier\n",
    "from sklearn.linear_model import LogisticRegression\n",
    "from sklearn.neural_network import MLPClassifier\n",
    "from sklearn.pipeline import Pipeline\n",
    "\n",
    "import os\n",
    "import matplotlib.pyplot as plt\n",
    "import pandas as pd\n",
    "import warnings\n",
    "warnings.filterwarnings(\"ignore\")\n",
    "\n",
    "#Set a random state\n",
    "rs = 4\n",
    "\n",
    "#Set our CVs\n",
    "cv_outer = StratifiedKFold(n_splits=5, shuffle=True, random_state=rs)\n",
    "cv_inner = StratifiedKFold(n_splits=3, shuffle=True, random_state=rs)\n",
    "\n",
    "#Set the scaler\n",
    "scaler = PowerTransformer()"
   ]
  },
  {
   "cell_type": "code",
   "execution_count": 2,
   "metadata": {},
   "outputs": [
    {
     "name": "stdout",
     "output_type": "stream",
     "text": [
      "4 entries removed due to errors in feature 'scannedLineItemsPerSecond'.\n"
     ]
    }
   ],
   "source": [
    "#Get current directory \n",
    "path = os.getcwd() \n",
    "\n",
    "#Get parent directory \n",
    "parent = os.path.dirname(path)\n",
    "\n",
    "#Move to the directory with data\n",
    "train_csv = os.path.join(parent, \"data\", \"train.csv\")\n",
    "\n",
    "#Import our dataset\n",
    "dataset = pd.read_csv(train_csv, delimiter = '|')\n",
    "\n",
    "#Clean the dataset (drop unrealistic entries)\n",
    "dataset_org = dataset.copy()\n",
    "dataset = dataset[dataset['scannedLineItemsPerSecond'] < 4]\n",
    "cutted = len(dataset_org)-len(dataset)\n",
    "print(f\"{cutted} entries removed due to errors in feature 'scannedLineItemsPerSecond'.\")\n",
    "\n",
    "#Add new feature 'totalItems'\n",
    "dataset = dataset.assign(totalItems = dataset.totalScanTimeInSeconds * dataset.scannedLineItemsPerSecond)\n",
    "\n",
    "#Add new feature 'suspicious' as frauds only occur at trustLevels 1-2, all others are non-fraudulent\n",
    "suspicious = dataset['trustLevel'].copy()\n",
    "suspicious[suspicious > 2] = 3\n",
    "dataset = dataset.assign(suspicious = suspicious)\n",
    "\n",
    "#Drop 'trustLevel' as it is too similar to 'suspicious'\n",
    "dataset = dataset.drop(\"trustLevel\", axis=1)\n",
    "\n",
    "#Add new feature 'avgLineItemValue'\n",
    "dataset = dataset.assign(avgLineItemValue = dataset.valuePerSecond / dataset.scannedLineItemsPerSecond)"
   ]
  },
  {
   "cell_type": "code",
   "execution_count": 3,
   "metadata": {},
   "outputs": [],
   "source": [
    "#Split the dataset in X and y\n",
    "X = dataset.drop('fraud', axis=1)\n",
    "y = dataset.fraud"
   ]
  },
  {
   "cell_type": "code",
   "execution_count": 4,
   "metadata": {},
   "outputs": [
    {
     "data": {
      "text/html": [
       "<div>\n",
       "<style scoped>\n",
       "    .dataframe tbody tr th:only-of-type {\n",
       "        vertical-align: middle;\n",
       "    }\n",
       "\n",
       "    .dataframe tbody tr th {\n",
       "        vertical-align: top;\n",
       "    }\n",
       "\n",
       "    .dataframe thead th {\n",
       "        text-align: right;\n",
       "    }\n",
       "</style>\n",
       "<table border=\"1\" class=\"dataframe\">\n",
       "  <thead>\n",
       "    <tr style=\"text-align: right;\">\n",
       "      <th></th>\n",
       "      <th>totalScanTimeInSeconds</th>\n",
       "      <th>grandTotal</th>\n",
       "      <th>lineItemVoids</th>\n",
       "      <th>scansWithoutRegistration</th>\n",
       "      <th>quantityModifications</th>\n",
       "      <th>scannedLineItemsPerSecond</th>\n",
       "      <th>valuePerSecond</th>\n",
       "      <th>lineItemVoidsPerPosition</th>\n",
       "      <th>totalItems</th>\n",
       "      <th>avgLineItemValue</th>\n",
       "      <th>suspicious</th>\n",
       "    </tr>\n",
       "  </thead>\n",
       "  <tbody>\n",
       "    <tr>\n",
       "      <th>0</th>\n",
       "      <td>1054</td>\n",
       "      <td>54.70</td>\n",
       "      <td>7</td>\n",
       "      <td>0</td>\n",
       "      <td>3</td>\n",
       "      <td>0.027514</td>\n",
       "      <td>0.051898</td>\n",
       "      <td>0.241379</td>\n",
       "      <td>29.0</td>\n",
       "      <td>1.886207</td>\n",
       "      <td>3</td>\n",
       "    </tr>\n",
       "    <tr>\n",
       "      <th>1</th>\n",
       "      <td>108</td>\n",
       "      <td>27.36</td>\n",
       "      <td>5</td>\n",
       "      <td>2</td>\n",
       "      <td>4</td>\n",
       "      <td>0.129630</td>\n",
       "      <td>0.253333</td>\n",
       "      <td>0.357143</td>\n",
       "      <td>14.0</td>\n",
       "      <td>1.954286</td>\n",
       "      <td>3</td>\n",
       "    </tr>\n",
       "    <tr>\n",
       "      <th>2</th>\n",
       "      <td>1516</td>\n",
       "      <td>62.16</td>\n",
       "      <td>3</td>\n",
       "      <td>10</td>\n",
       "      <td>5</td>\n",
       "      <td>0.008575</td>\n",
       "      <td>0.041003</td>\n",
       "      <td>0.230769</td>\n",
       "      <td>13.0</td>\n",
       "      <td>4.781538</td>\n",
       "      <td>3</td>\n",
       "    </tr>\n",
       "    <tr>\n",
       "      <th>3</th>\n",
       "      <td>1791</td>\n",
       "      <td>92.31</td>\n",
       "      <td>8</td>\n",
       "      <td>4</td>\n",
       "      <td>4</td>\n",
       "      <td>0.016192</td>\n",
       "      <td>0.051541</td>\n",
       "      <td>0.275862</td>\n",
       "      <td>29.0</td>\n",
       "      <td>3.183103</td>\n",
       "      <td>3</td>\n",
       "    </tr>\n",
       "    <tr>\n",
       "      <th>4</th>\n",
       "      <td>430</td>\n",
       "      <td>81.53</td>\n",
       "      <td>3</td>\n",
       "      <td>7</td>\n",
       "      <td>2</td>\n",
       "      <td>0.062791</td>\n",
       "      <td>0.189605</td>\n",
       "      <td>0.111111</td>\n",
       "      <td>27.0</td>\n",
       "      <td>3.019630</td>\n",
       "      <td>3</td>\n",
       "    </tr>\n",
       "  </tbody>\n",
       "</table>\n",
       "</div>"
      ],
      "text/plain": [
       "   totalScanTimeInSeconds  grandTotal  lineItemVoids  \\\n",
       "0                    1054       54.70              7   \n",
       "1                     108       27.36              5   \n",
       "2                    1516       62.16              3   \n",
       "3                    1791       92.31              8   \n",
       "4                     430       81.53              3   \n",
       "\n",
       "   scansWithoutRegistration  quantityModifications  scannedLineItemsPerSecond  \\\n",
       "0                         0                      3                   0.027514   \n",
       "1                         2                      4                   0.129630   \n",
       "2                        10                      5                   0.008575   \n",
       "3                         4                      4                   0.016192   \n",
       "4                         7                      2                   0.062791   \n",
       "\n",
       "   valuePerSecond  lineItemVoidsPerPosition  totalItems  avgLineItemValue  \\\n",
       "0        0.051898                  0.241379        29.0          1.886207   \n",
       "1        0.253333                  0.357143        14.0          1.954286   \n",
       "2        0.041003                  0.230769        13.0          4.781538   \n",
       "3        0.051541                  0.275862        29.0          3.183103   \n",
       "4        0.189605                  0.111111        27.0          3.019630   \n",
       "\n",
       "   suspicious  \n",
       "0           3  \n",
       "1           3  \n",
       "2           3  \n",
       "3           3  \n",
       "4           3  "
      ]
     },
     "execution_count": 4,
     "metadata": {},
     "output_type": "execute_result"
    }
   ],
   "source": [
    "X.head()"
   ]
  },
  {
   "cell_type": "code",
   "execution_count": 5,
   "metadata": {},
   "outputs": [],
   "source": [
    "#Define monetary_score as our used metric\n",
    "def monetary_score_func(y_test, y_pred):\n",
    "    cm = confusion_matrix(y_test, y_pred)\n",
    "    monetary_value = (cm[0,0] * 0) + (cm[1, 0] * -5) + (cm[0, 1] * -25) + (cm[1, 1] * 5)\n",
    "    max_monetary_value = (cm[1,0] + cm[1,1]) * 5\n",
    "    return (monetary_value / max_monetary_value)\n",
    "\n",
    "monetary_score = make_scorer(monetary_score_func)"
   ]
  },
  {
   "cell_type": "code",
   "execution_count": 6,
   "metadata": {
    "scrolled": true
   },
   "outputs": [],
   "source": [
    "#Define models and parameters\n",
    "model_LR = LogisticRegression(random_state=rs, n_jobs=-1)\n",
    "params_LR = {\n",
    "    \"model__solver\": [\"liblinear\", \"lbfgs\"],\n",
    "    \"model__class_weight\": [None, \"balanced\"],\n",
    "    \"model__C\": [0.1, 0.2, 0.3, 0.4, 0.5, 0.6, 0.7, 0.8, 0.9, 1]\n",
    "            }\n",
    "\n",
    "model_XG = XGBClassifier(booster=\"gblinear\", random_state=rs, n_jobs=-1)\n",
    "params_XG = {\n",
    "    \"model__eta\": [0.01, 0.02, 0.03],\n",
    "    \"model__n_estimators\": [1000, 1500, 2000],\n",
    "    \"model__lambda\": [0, 0.001, 0.002, 0.003],\n",
    "    \"model__alpha\": [0, 0.0001, 0.0005, 0.00075, 0.001]\n",
    "            }\n",
    "\n",
    "model_mlp = MLPClassifier(max_iter=500, random_state=rs)\n",
    "params_mlp = {\n",
    "          'model__hidden_layer_sizes':[(8,4), (8,4,2)],\n",
    "          'model__learning_rate_init':[0.001, 0.005],\n",
    "          'model__alpha':[1.3, 1.4, 1.5] \n",
    "             }\n",
    "\n",
    "model_svc = SVC(kernel=\"linear\", random_state=rs)\n",
    "params_svc = {\"model__C\": [0.08, 0.09, 0.1, 0.11, 0.2, 0.3, 0.4, 0.5, 0.6, 0.7, 0.8, 0.9]}\n",
    "\n",
    "model_ada = BaggingClassifier(base_estimator=AdaBoostClassifier(), random_state=rs, n_jobs=-1)\n",
    "params_ada = {\n",
    "    \"model__bootstrap\": [True, False],\n",
    "    \"model__max_samples\": [0.25, 0.5, 0.75, 1.0],\n",
    "    \"model__n_estimators\": [5, 10, 25, 50]\n",
    "             }"
   ]
  },
  {
   "cell_type": "code",
   "execution_count": 7,
   "metadata": {
    "scrolled": true
   },
   "outputs": [
    {
     "name": "stdout",
     "output_type": "stream",
     "text": [
      "Model\t Score\t\t 2STD\n",
      "LogReg\t 0.624286\t 0.462747\n",
      "XG\t 0.578095\t 0.388478\n",
      "MLP\t 0.565714\t 0.503751\n",
      "SVC\t 0.499048\t 0.445503\n",
      "Ada\t 0.462381\t 0.368811\n"
     ]
    },
    {
     "data": {
      "image/png": "[encoded data removed]",
      "text/plain": [
       "<Figure size 432x288 with 1 Axes>"
      ]
     },
     "metadata": {
      "needs_background": "light"
     },
     "output_type": "display_data"
    }
   ],
   "source": [
    "#Get the models together\n",
    "results = []\n",
    "names = []\n",
    "\n",
    "models = []\n",
    "models.append((\"LogReg\", model_LR, params_LR))\n",
    "models.append((\"XG\", model_XG, params_XG))\n",
    "models.append((\"MLP\", model_mlp, params_mlp))\n",
    "models.append((\"SVC\", model_svc, params_svc))\n",
    "models.append((\"Ada\", model_ada, params_ada))\n",
    "\n",
    "print(\"Model\\t Score\\t\\t 2STD\")\n",
    "\n",
    "for name, model, params in models:\n",
    "    pipe_model = Pipeline([\n",
    "        (\"scaler\", scaler),\n",
    "        (\"model\", model)\n",
    "    ])\n",
    "    \n",
    "    grid = GridSearchCV(estimator=pipe_model, param_grid=params, scoring=monetary_score, cv=cv_inner, n_jobs=-1)\n",
    "    nested_cv = cross_validate(estimator=grid, X=X, y=y, cv=cv_outer, scoring=monetary_score, n_jobs=-1)\n",
    "    results.append(nested_cv[\"test_score\"])\n",
    "    names.append(name)\n",
    "    print(\"%s\\t %f\\t %f\" % (name, nested_cv[\"test_score\"].mean(), nested_cv[\"test_score\"].std()*2))\n",
    "    \n",
    "#Boxplot nested scores\n",
    "boxplot_nested = plt.boxplot(results, labels=names)"
   ]
  },
  {
   "cell_type": "code",
   "execution_count": 8,
   "metadata": {},
   "outputs": [
    {
     "data": {
      "image/png": "[encoded data removed]",
      "text/plain": [
       "<Figure size 432x288 with 1 Axes>"
      ]
     },
     "metadata": {
      "needs_background": "light"
     },
     "output_type": "display_data"
    }
   ],
   "source": [
    "boxplot_nested = plt.boxplot(results, labels=names, vert=True, patch_artist=True)"
   ]
  },
  {
   "cell_type": "code",
   "execution_count": 9,
   "metadata": {},
   "outputs": [
    {
     "data": {
      "image/png": "[encoded data removed]",
      "text/plain": [
       "<Figure size 432x288 with 1 Axes>"
      ]
     },
     "metadata": {
      "needs_background": "light"
     },
     "output_type": "display_data"
    }
   ],
   "source": [
    "boxplot_nested = plt.boxplot(results, labels=names, vert=False, patch_artist=True)"
   ]
  }
 ],
 "metadata": {
  "kernelspec": {
   "display_name": "Python 3",
   "language": "python",
   "name": "python3"
  },
  "language_info": {
   "codemirror_mode": {
    "name": "ipython",
    "version": 3
   },
   "file_extension": ".py",
   "mimetype": "text/x-python",
   "name": "python",
   "nbconvert_exporter": "python",
   "pygments_lexer": "ipython3",
   "version": "3.7.3"
  }
 },
 "nbformat": 4,
 "nbformat_minor": 4
}
