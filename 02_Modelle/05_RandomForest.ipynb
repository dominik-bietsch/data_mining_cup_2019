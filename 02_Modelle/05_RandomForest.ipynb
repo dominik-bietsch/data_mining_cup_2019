{
 "cells": [
  {
   "cell_type": "code",
   "execution_count": 1,
   "metadata": {},
   "outputs": [],
   "source": [
    "from sklearn.ensemble import VotingClassifier, RandomForestClassifier\n",
    "from sklearn.model_selection import StratifiedKFold, GridSearchCV, cross_validate, train_test_split\n",
    "from sklearn.metrics import confusion_matrix, make_scorer\n",
    "from sklearn.preprocessing import PowerTransformer\n",
    "from sklearn.base import clone\n",
    "\n",
    "from sklearn.pipeline import Pipeline\n",
    "#from imblearn.pipeline import Pipeline\n",
    "#from imblearn.over_sampling import SMOTE, RandomOverSampler\n",
    "#from imblearn.under_sampling import RandomUnderSampler\n",
    "\n",
    "import os\n",
    "import matplotlib.pyplot as plt\n",
    "import pandas as pd\n",
    "import warnings\n",
    "warnings.filterwarnings(\"ignore\")\n",
    "\n",
    "#Set a random state\n",
    "rs = 4\n",
    "\n",
    "#Set our CVs\n",
    "cv_outer = StratifiedKFold(n_splits=5, shuffle=True, random_state=rs)\n",
    "cv_inner = StratifiedKFold(n_splits=3, shuffle=True, random_state=rs)\n",
    "\n",
    "#Set the scaler\n",
    "scaler = PowerTransformer()\n",
    "\n",
    "#Set the sampling method\n",
    "#sampler = SMOTE(sampling_strategy=0.1, random_state=rs)\n",
    "#sampler = RandomOverSampler(sampling_strategy=0.1, random_state=rs)\n",
    "#sampler = RandomUnderSampler(sampling_strategy=0.1, random_state=rs)"
   ]
  },
  {
   "cell_type": "code",
   "execution_count": 2,
   "metadata": {},
   "outputs": [
    {
     "name": "stdout",
     "output_type": "stream",
     "text": [
      "4 entries removed due to errors in feature 'scannedLineItemsPerSecond'.\n"
     ]
    }
   ],
   "source": [
    "#Get current directory \n",
    "path = os.getcwd() \n",
    "\n",
    "#Get parent directory \n",
    "parent = os.path.dirname(path)\n",
    "\n",
    "#Move to the directory with data\n",
    "train_csv = os.path.join(parent, \"data\", \"train.csv\")\n",
    "\n",
    "#Import our dataset\n",
    "dataset = pd.read_csv(train_csv, delimiter = '|')\n",
    "\n",
    "#Clean the dataset (drop unrealistic entries)\n",
    "dataset_org = dataset.copy()\n",
    "dataset = dataset[dataset['scannedLineItemsPerSecond'] < 4]\n",
    "cutted = len(dataset_org)-len(dataset)\n",
    "print(f\"{cutted} entries removed due to errors in feature 'scannedLineItemsPerSecond'.\")\n",
    "\n",
    "#Add new feature 'totalItems'\n",
    "dataset = dataset.assign(totalItems = dataset.totalScanTimeInSeconds * dataset.scannedLineItemsPerSecond)\n",
    "\n",
    "#Add new feature 'suspicious' as frauds only occur at trustLevels 1-2, all others are non-fraudulent\n",
    "suspicious = dataset['trustLevel'].copy()\n",
    "suspicious[suspicious > 2] = 3\n",
    "dataset = dataset.assign(suspicious = suspicious)\n",
    "\n",
    "#Drop 'trustLevel' as it is too similar to 'suspicious'\n",
    "dataset = dataset.drop(\"trustLevel\", axis=1)\n",
    "\n",
    "#Add new feature 'avgLineItemValue'\n",
    "dataset = dataset.assign(avgLineItemValue = dataset.valuePerSecond / dataset.scannedLineItemsPerSecond)"
   ]
  },
  {
   "cell_type": "code",
   "execution_count": 4,
   "metadata": {},
   "outputs": [],
   "source": [
    "#Split the dataset in X and y\n",
    "X = dataset.drop('fraud', axis=1)\n",
    "y = dataset.fraud"
   ]
  },
  {
   "cell_type": "code",
   "execution_count": 5,
   "metadata": {},
   "outputs": [
    {
     "data": {
      "text/html": [
       "<div>\n",
       "<style scoped>\n",
       "    .dataframe tbody tr th:only-of-type {\n",
       "        vertical-align: middle;\n",
       "    }\n",
       "\n",
       "    .dataframe tbody tr th {\n",
       "        vertical-align: top;\n",
       "    }\n",
       "\n",
       "    .dataframe thead th {\n",
       "        text-align: right;\n",
       "    }\n",
       "</style>\n",
       "<table border=\"1\" class=\"dataframe\">\n",
       "  <thead>\n",
       "    <tr style=\"text-align: right;\">\n",
       "      <th></th>\n",
       "      <th>totalScanTimeInSeconds</th>\n",
       "      <th>grandTotal</th>\n",
       "      <th>lineItemVoids</th>\n",
       "      <th>scansWithoutRegistration</th>\n",
       "      <th>quantityModifications</th>\n",
       "      <th>scannedLineItemsPerSecond</th>\n",
       "      <th>valuePerSecond</th>\n",
       "      <th>lineItemVoidsPerPosition</th>\n",
       "      <th>totalItems</th>\n",
       "      <th>suspicious</th>\n",
       "      <th>avgLineItemValue</th>\n",
       "    </tr>\n",
       "  </thead>\n",
       "  <tbody>\n",
       "    <tr>\n",
       "      <th>0</th>\n",
       "      <td>1054</td>\n",
       "      <td>54.70</td>\n",
       "      <td>7</td>\n",
       "      <td>0</td>\n",
       "      <td>3</td>\n",
       "      <td>0.027514</td>\n",
       "      <td>0.051898</td>\n",
       "      <td>0.241379</td>\n",
       "      <td>29.0</td>\n",
       "      <td>3</td>\n",
       "      <td>1.886207</td>\n",
       "    </tr>\n",
       "    <tr>\n",
       "      <th>1</th>\n",
       "      <td>108</td>\n",
       "      <td>27.36</td>\n",
       "      <td>5</td>\n",
       "      <td>2</td>\n",
       "      <td>4</td>\n",
       "      <td>0.129630</td>\n",
       "      <td>0.253333</td>\n",
       "      <td>0.357143</td>\n",
       "      <td>14.0</td>\n",
       "      <td>3</td>\n",
       "      <td>1.954286</td>\n",
       "    </tr>\n",
       "    <tr>\n",
       "      <th>2</th>\n",
       "      <td>1516</td>\n",
       "      <td>62.16</td>\n",
       "      <td>3</td>\n",
       "      <td>10</td>\n",
       "      <td>5</td>\n",
       "      <td>0.008575</td>\n",
       "      <td>0.041003</td>\n",
       "      <td>0.230769</td>\n",
       "      <td>13.0</td>\n",
       "      <td>3</td>\n",
       "      <td>4.781538</td>\n",
       "    </tr>\n",
       "    <tr>\n",
       "      <th>3</th>\n",
       "      <td>1791</td>\n",
       "      <td>92.31</td>\n",
       "      <td>8</td>\n",
       "      <td>4</td>\n",
       "      <td>4</td>\n",
       "      <td>0.016192</td>\n",
       "      <td>0.051541</td>\n",
       "      <td>0.275862</td>\n",
       "      <td>29.0</td>\n",
       "      <td>3</td>\n",
       "      <td>3.183103</td>\n",
       "    </tr>\n",
       "    <tr>\n",
       "      <th>4</th>\n",
       "      <td>430</td>\n",
       "      <td>81.53</td>\n",
       "      <td>3</td>\n",
       "      <td>7</td>\n",
       "      <td>2</td>\n",
       "      <td>0.062791</td>\n",
       "      <td>0.189605</td>\n",
       "      <td>0.111111</td>\n",
       "      <td>27.0</td>\n",
       "      <td>3</td>\n",
       "      <td>3.019630</td>\n",
       "    </tr>\n",
       "  </tbody>\n",
       "</table>\n",
       "</div>"
      ],
      "text/plain": [
       "   totalScanTimeInSeconds  grandTotal  lineItemVoids  \\\n",
       "0                    1054       54.70              7   \n",
       "1                     108       27.36              5   \n",
       "2                    1516       62.16              3   \n",
       "3                    1791       92.31              8   \n",
       "4                     430       81.53              3   \n",
       "\n",
       "   scansWithoutRegistration  quantityModifications  scannedLineItemsPerSecond  \\\n",
       "0                         0                      3                   0.027514   \n",
       "1                         2                      4                   0.129630   \n",
       "2                        10                      5                   0.008575   \n",
       "3                         4                      4                   0.016192   \n",
       "4                         7                      2                   0.062791   \n",
       "\n",
       "   valuePerSecond  lineItemVoidsPerPosition  totalItems  suspicious  \\\n",
       "0        0.051898                  0.241379        29.0           3   \n",
       "1        0.253333                  0.357143        14.0           3   \n",
       "2        0.041003                  0.230769        13.0           3   \n",
       "3        0.051541                  0.275862        29.0           3   \n",
       "4        0.189605                  0.111111        27.0           3   \n",
       "\n",
       "   avgLineItemValue  \n",
       "0          1.886207  \n",
       "1          1.954286  \n",
       "2          4.781538  \n",
       "3          3.183103  \n",
       "4          3.019630  "
      ]
     },
     "execution_count": 5,
     "metadata": {},
     "output_type": "execute_result"
    }
   ],
   "source": [
    "X.head()"
   ]
  },
  {
   "cell_type": "code",
   "execution_count": 6,
   "metadata": {},
   "outputs": [],
   "source": [
    "#Define monetary_score as our used metric\n",
    "def monetary_score_func(y_test, y_pred):\n",
    "    cm = confusion_matrix(y_test, y_pred)\n",
    "    monetary_value = (cm[0,0] * 0) + (cm[1, 0] * -5) + (cm[0, 1] * -25) + (cm[1, 1] * 5)\n",
    "    max_monetary_value = (cm[1,0] + cm[1,1]) * 5\n",
    "    return (monetary_value / max_monetary_value)\n",
    "\n",
    "monetary_score = make_scorer(monetary_score_func)"
   ]
  },
  {
   "cell_type": "code",
   "execution_count": 7,
   "metadata": {},
   "outputs": [
    {
     "data": {
      "text/plain": [
       "array([0.45      , 0.45888889, 0.46777778, 0.47666667, 0.48555556,\n",
       "       0.49444444, 0.50333333, 0.51222222, 0.52111111, 0.53      ])"
      ]
     },
     "execution_count": 7,
     "metadata": {},
     "output_type": "execute_result"
    }
   ],
   "source": [
    "import numpy as np\n",
    "weights = np.linspace(0.45, 0.53, 10)\n",
    "weights"
   ]
  },
  {
   "cell_type": "code",
   "execution_count": 8,
   "metadata": {},
   "outputs": [
    {
     "name": "stdout",
     "output_type": "stream",
     "text": [
      "Pipeline(steps=[('scaler', PowerTransformer()),\n",
      "                ('model',\n",
      "                 RandomForestClassifier(n_estimators=25, n_jobs=-1,\n",
      "                                        random_state=4))])\n"
     ]
    }
   ],
   "source": [
    "#Define model and parameters\n",
    "model = RandomForestClassifier(n_estimators=25, random_state=rs, n_jobs=-1)\n",
    "params = {\"model__class_weight\": [{0: x, 1: 1-x} for x in weights],\n",
    "          \"model__min_samples_split\": [2, 3, 4, 5, 6, 7],\n",
    "          \"model__max_depth\": [None, 9]\n",
    "         }\n",
    "\n",
    "#Create the model pipeline\n",
    "try:\n",
    "    pipe_model = Pipeline([\n",
    "        ('sampler', sampler),\n",
    "        (\"scaler\", scaler),\n",
    "        (\"model\", model)\n",
    "    ])\n",
    "    \n",
    "except NameError:\n",
    "    pipe_model = Pipeline([    \n",
    "        (\"scaler\", scaler),\n",
    "        (\"model\", model)\n",
    "    ])\n",
    "\n",
    "#Define the grid search (inner cv)\n",
    "grid = GridSearchCV(estimator=pipe_model, param_grid=params, scoring=monetary_score, cv=cv_inner, n_jobs=-1)\n",
    "print(pipe_model)"
   ]
  },
  {
   "cell_type": "code",
   "execution_count": 9,
   "metadata": {},
   "outputs": [
    {
     "name": "stdout",
     "output_type": "stream",
     "text": [
      "Scores of nested folds:\t\t[ 0.15       -0.33333333  0.28571429  0.33333333  0.04761905]\n",
      "Mean score of nested folds:\t0.09666666666666666\n"
     ]
    }
   ],
   "source": [
    "#Get the mean nested score to have an estimate on the expected performance\n",
    "nested_cv = cross_validate(estimator=grid, X=X, y=y, cv=cv_outer, scoring=monetary_score, n_jobs=-1)\n",
    "nested_score = nested_cv[\"test_score\"].mean()\n",
    "\n",
    "print(f\"Scores of nested folds:\\t\\t{nested_cv['test_score']}\")\n",
    "print(f\"Mean score of nested folds:\\t{nested_score}\")"
   ]
  },
  {
   "cell_type": "code",
   "execution_count": 10,
   "metadata": {},
   "outputs": [],
   "source": [
    "#Fit the data to the GridSearch\n",
    "grid.fit(X, y)\n",
    "\n",
    "#Get the GridSearch results\n",
    "results = pd.DataFrame(grid.cv_results_)\n",
    "\n",
    "#Sort the output by mean_test_score\n",
    "results.sort_values(by='mean_test_score', inplace=True, ignore_index=True, ascending=False)\n",
    "\n",
    "#Drop everything but the param columns\n",
    "results_grid = results.drop([\"mean_fit_time\", \"std_fit_time\", \"mean_score_time\", \"std_score_time\", \"split0_test_score\", \"split1_test_score\", \"split2_test_score\", \"rank_test_score\", \"mean_test_score\", \"std_test_score\"], axis=1)\n",
    "\n",
    "#Get back mean_test_score and std_test_score (as double_std_test_score) to insert them in the first two columns\n",
    "results_grid.insert(0, \"mean_test_score\", results[\"mean_test_score\"])\n",
    "results_grid.insert(1, \"double_std_test_score\", results[\"std_test_score\"] * 2)"
   ]
  },
  {
   "cell_type": "code",
   "execution_count": 11,
   "metadata": {},
   "outputs": [
    {
     "data": {
      "text/html": [
       "<div>\n",
       "<style scoped>\n",
       "    .dataframe tbody tr th:only-of-type {\n",
       "        vertical-align: middle;\n",
       "    }\n",
       "\n",
       "    .dataframe tbody tr th {\n",
       "        vertical-align: top;\n",
       "    }\n",
       "\n",
       "    .dataframe thead th {\n",
       "        text-align: right;\n",
       "    }\n",
       "</style>\n",
       "<table border=\"1\" class=\"dataframe\">\n",
       "  <thead>\n",
       "    <tr style=\"text-align: right;\">\n",
       "      <th></th>\n",
       "      <th>mean_test_score</th>\n",
       "      <th>double_std_test_score</th>\n",
       "      <th>param_model__class_weight</th>\n",
       "      <th>param_model__max_depth</th>\n",
       "      <th>param_model__min_samples_split</th>\n",
       "      <th>params</th>\n",
       "    </tr>\n",
       "  </thead>\n",
       "  <tbody>\n",
       "    <tr>\n",
       "      <th>4</th>\n",
       "      <td>0.153782</td>\n",
       "      <td>0.025191</td>\n",
       "      <td>{0: 0.4588888888888889, 1: 0.5411111111111111}</td>\n",
       "      <td>None</td>\n",
       "      <td>6</td>\n",
       "      <td>{'model__class_weight': {0: 0.4588888888888889...</td>\n",
       "    </tr>\n",
       "    <tr>\n",
       "      <th>7</th>\n",
       "      <td>0.144538</td>\n",
       "      <td>0.083291</td>\n",
       "      <td>{0: 0.4588888888888889, 1: 0.5411111111111111}</td>\n",
       "      <td>None</td>\n",
       "      <td>2</td>\n",
       "      <td>{'model__class_weight': {0: 0.4588888888888889...</td>\n",
       "    </tr>\n",
       "    <tr>\n",
       "      <th>3</th>\n",
       "      <td>0.154342</td>\n",
       "      <td>0.101049</td>\n",
       "      <td>{0: 0.53, 1: 0.47}</td>\n",
       "      <td>None</td>\n",
       "      <td>5</td>\n",
       "      <td>{'model__class_weight': {0: 0.53, 1: 0.47}, 'm...</td>\n",
       "    </tr>\n",
       "    <tr>\n",
       "      <th>8</th>\n",
       "      <td>0.143697</td>\n",
       "      <td>0.121900</td>\n",
       "      <td>{0: 0.4588888888888889, 1: 0.5411111111111111}</td>\n",
       "      <td>None</td>\n",
       "      <td>5</td>\n",
       "      <td>{'model__class_weight': {0: 0.4588888888888889...</td>\n",
       "    </tr>\n",
       "    <tr>\n",
       "      <th>0</th>\n",
       "      <td>0.164146</td>\n",
       "      <td>0.122565</td>\n",
       "      <td>{0: 0.5211111111111111, 1: 0.4788888888888889}</td>\n",
       "      <td>None</td>\n",
       "      <td>5</td>\n",
       "      <td>{'model__class_weight': {0: 0.5211111111111111...</td>\n",
       "    </tr>\n",
       "    <tr>\n",
       "      <th>5</th>\n",
       "      <td>0.145098</td>\n",
       "      <td>0.129672</td>\n",
       "      <td>{0: 0.5122222222222222, 1: 0.48777777777777775}</td>\n",
       "      <td>9</td>\n",
       "      <td>3</td>\n",
       "      <td>{'model__class_weight': {0: 0.5122222222222222...</td>\n",
       "    </tr>\n",
       "    <tr>\n",
       "      <th>6</th>\n",
       "      <td>0.145098</td>\n",
       "      <td>0.145494</td>\n",
       "      <td>{0: 0.5122222222222222, 1: 0.48777777777777775}</td>\n",
       "      <td>None</td>\n",
       "      <td>2</td>\n",
       "      <td>{'model__class_weight': {0: 0.5122222222222222...</td>\n",
       "    </tr>\n",
       "    <tr>\n",
       "      <th>9</th>\n",
       "      <td>0.135574</td>\n",
       "      <td>0.198696</td>\n",
       "      <td>{0: 0.5122222222222222, 1: 0.48777777777777775}</td>\n",
       "      <td>9</td>\n",
       "      <td>7</td>\n",
       "      <td>{'model__class_weight': {0: 0.5122222222222222...</td>\n",
       "    </tr>\n",
       "    <tr>\n",
       "      <th>1</th>\n",
       "      <td>0.155182</td>\n",
       "      <td>0.201948</td>\n",
       "      <td>{0: 0.5033333333333334, 1: 0.4966666666666666}</td>\n",
       "      <td>9</td>\n",
       "      <td>4</td>\n",
       "      <td>{'model__class_weight': {0: 0.5033333333333334...</td>\n",
       "    </tr>\n",
       "    <tr>\n",
       "      <th>2</th>\n",
       "      <td>0.154622</td>\n",
       "      <td>0.218737</td>\n",
       "      <td>{0: 0.5033333333333334, 1: 0.4966666666666666}</td>\n",
       "      <td>9</td>\n",
       "      <td>5</td>\n",
       "      <td>{'model__class_weight': {0: 0.5033333333333334...</td>\n",
       "    </tr>\n",
       "  </tbody>\n",
       "</table>\n",
       "</div>"
      ],
      "text/plain": [
       "   mean_test_score  double_std_test_score  \\\n",
       "4         0.153782               0.025191   \n",
       "7         0.144538               0.083291   \n",
       "3         0.154342               0.101049   \n",
       "8         0.143697               0.121900   \n",
       "0         0.164146               0.122565   \n",
       "5         0.145098               0.129672   \n",
       "6         0.145098               0.145494   \n",
       "9         0.135574               0.198696   \n",
       "1         0.155182               0.201948   \n",
       "2         0.154622               0.218737   \n",
       "\n",
       "                         param_model__class_weight param_model__max_depth  \\\n",
       "4   {0: 0.4588888888888889, 1: 0.5411111111111111}                   None   \n",
       "7   {0: 0.4588888888888889, 1: 0.5411111111111111}                   None   \n",
       "3                               {0: 0.53, 1: 0.47}                   None   \n",
       "8   {0: 0.4588888888888889, 1: 0.5411111111111111}                   None   \n",
       "0   {0: 0.5211111111111111, 1: 0.4788888888888889}                   None   \n",
       "5  {0: 0.5122222222222222, 1: 0.48777777777777775}                      9   \n",
       "6  {0: 0.5122222222222222, 1: 0.48777777777777775}                   None   \n",
       "9  {0: 0.5122222222222222, 1: 0.48777777777777775}                      9   \n",
       "1   {0: 0.5033333333333334, 1: 0.4966666666666666}                      9   \n",
       "2   {0: 0.5033333333333334, 1: 0.4966666666666666}                      9   \n",
       "\n",
       "  param_model__min_samples_split  \\\n",
       "4                              6   \n",
       "7                              2   \n",
       "3                              5   \n",
       "8                              5   \n",
       "0                              5   \n",
       "5                              3   \n",
       "6                              2   \n",
       "9                              7   \n",
       "1                              4   \n",
       "2                              5   \n",
       "\n",
       "                                              params  \n",
       "4  {'model__class_weight': {0: 0.4588888888888889...  \n",
       "7  {'model__class_weight': {0: 0.4588888888888889...  \n",
       "3  {'model__class_weight': {0: 0.53, 1: 0.47}, 'm...  \n",
       "8  {'model__class_weight': {0: 0.4588888888888889...  \n",
       "0  {'model__class_weight': {0: 0.5211111111111111...  \n",
       "5  {'model__class_weight': {0: 0.5122222222222222...  \n",
       "6  {'model__class_weight': {0: 0.5122222222222222...  \n",
       "9  {'model__class_weight': {0: 0.5122222222222222...  \n",
       "1  {'model__class_weight': {0: 0.5033333333333334...  \n",
       "2  {'model__class_weight': {0: 0.5033333333333334...  "
      ]
     },
     "execution_count": 11,
     "metadata": {},
     "output_type": "execute_result"
    }
   ],
   "source": [
    "#See the top results (sorted by 'mean_test_score')\n",
    "#results_grid[:10]\n",
    "\n",
    "#See the top results (sorted by 'double_std_test_score')\n",
    "results_grid[:10].sort_values(by='double_std_test_score')"
   ]
  },
  {
   "cell_type": "code",
   "execution_count": 12,
   "metadata": {},
   "outputs": [
    {
     "data": {
      "text/plain": [
       "Pipeline(steps=[('scaler', PowerTransformer()),\n",
       "                ('model',\n",
       "                 RandomForestClassifier(class_weight={0: 0.4588888888888889,\n",
       "                                                      1: 0.5411111111111111},\n",
       "                                        min_samples_split=6, n_estimators=25,\n",
       "                                        n_jobs=-1, random_state=4))])"
      ]
     },
     "execution_count": 12,
     "metadata": {},
     "output_type": "execute_result"
    }
   ],
   "source": [
    "#Alternative A - use best model as final_clf\n",
    "final_pipe = clone(pipe_model)\n",
    "final_pipe = final_pipe.set_params(**results_grid.loc[4, \"params\"])\n",
    "final_pipe"
   ]
  },
  {
   "cell_type": "code",
   "execution_count": null,
   "metadata": {},
   "outputs": [],
   "source": [
    "# #Alternative B - Get 3 or 5 good estimators together as an ensemble to improve the model\n",
    "\n",
    "# #Set the index to choose a certain model as follows: set_params(**results_grid.loc[INDEX, \"params\"])\n",
    "# estimator1 = clone(pipe_model).set_params(**results_grid.loc[6, \"params\"])\n",
    "# estimator2 = clone(pipe_model).set_params(**results_grid.loc[3, \"params\"])\n",
    "# estimator3 = clone(pipe_model).set_params(**results_grid.loc[0, \"params\"])\n",
    "\n",
    "# estimators = [\n",
    "#     (\"estimator1\", estimator1[\"model\"]),\n",
    "#     (\"estimator2\", estimator2[\"model\"]),\n",
    "#     (\"estimator3\", estimator3[\"model\"])\n",
    "#             ]\n",
    "\n",
    "# #Test both hard and soft voting - choose the one that performs better\n",
    "# #NOTE: For soft voting, probabilities have to be returned (check the documentation for that)\n",
    "# ensemble = VotingClassifier(estimators, voting=\"hard\")\n",
    "    \n",
    "# #Create the final pipeline\n",
    "# try:    \n",
    "#     final_pipe = Pipeline([\n",
    "#         ('sampler', sampler),\n",
    "#         (\"scaler\", scaler),\n",
    "#         (\"model\", ensemble)\n",
    "#     ])\n",
    "    \n",
    "# except NameError:\n",
    "#     final_pipe = Pipeline([    \n",
    "#         (\"scaler\", scaler),\n",
    "#         (\"model\", ensemble)\n",
    "#     ])\n",
    "\n",
    "# #What does the ensemble look like?\n",
    "# print(final_pipe)\n",
    "\n",
    "# #How does the ensemble perform?\n",
    "# cv_results = cross_validate(final_pipe, X, y, cv=cv_inner, scoring=monetary_score, n_jobs=-1)\n",
    "# print(\"\\n\\nPerformance on folds:\\t\\t\",cv_results['test_score'])\n",
    "# print(\"Mean monetary score:\\t\\t\", cv_results['test_score'].mean())\n",
    "# print(\"Double Standard Deviation:\\t\", 2*cv_results['test_score'].std())"
   ]
  },
  {
   "cell_type": "markdown",
   "metadata": {},
   "source": [
    "## Visualization of Feature importance"
   ]
  },
  {
   "cell_type": "code",
   "execution_count": 13,
   "metadata": {},
   "outputs": [
    {
     "data": {
      "application/vnd.jupyter.widget-view+json": {
       "model_id": "45468f65b84c4acaa7763bcbd48c83bd",
       "version_major": 2,
       "version_minor": 0
      },
      "text/plain": [
       "HBox(children=(HTML(value=''), FloatProgress(value=0.0, max=375.0), HTML(value='')))"
      ]
     },
     "metadata": {},
     "output_type": "display_data"
    },
    {
     "name": "stdout",
     "output_type": "stream",
     "text": [
      "\n"
     ]
    },
    {
     "data": {
      "image/png": "[encoded data removed]",
      "text/plain": [
       "<Figure size 576x424.8 with 2 Axes>"
      ]
     },
     "metadata": {
      "needs_background": "light"
     },
     "output_type": "display_data"
    }
   ],
   "source": [
    "import shap\n",
    "shap.initjs\n",
    "\n",
    "X_train, X_test, y_train, y_test = train_test_split(X, y, test_size=0.2, random_state=rs, stratify=y) \n",
    "final_pipe.fit(X_train, y_train)\n",
    "X_train = shap.kmeans(X_train, 20)\n",
    "explainer = shap.KernelExplainer(final_pipe.predict, X_train)\n",
    "shap_values = explainer.shap_values(X_test)\n",
    "shap.summary_plot(shap_values, X_test)"
   ]
  },
  {
   "cell_type": "code",
   "execution_count": 14,
   "metadata": {},
   "outputs": [
    {
     "data": {
      "image/png": "[encoded data removed]",
      "text/plain": [
       "<Figure size 576x424.8 with 1 Axes>"
      ]
     },
     "metadata": {
      "needs_background": "light"
     },
     "output_type": "display_data"
    }
   ],
   "source": [
    "# simple feature importance\n",
    "shap.summary_plot(shap_values, features=X_test, feature_names=X.columns, plot_type=\"bar\")"
   ]
  }
 ],
 "metadata": {
  "kernelspec": {
   "display_name": "Python 3",
   "language": "python",
   "name": "python3"
  },
  "language_info": {
   "codemirror_mode": {
    "name": "ipython",
    "version": 3
   },
   "file_extension": ".py",
   "mimetype": "text/x-python",
   "name": "python",
   "nbconvert_exporter": "python",
   "pygments_lexer": "ipython3",
   "version": "3.7.3"
  }
 },
 "nbformat": 4,
 "nbformat_minor": 4
}
